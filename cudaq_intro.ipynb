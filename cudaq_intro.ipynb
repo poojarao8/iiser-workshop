{
 "cells": [
  {
   "cell_type": "markdown",
   "metadata": {},
   "source": [
    "    Learning objectives\n",
    "      - Build quantum circuits using cudaq.\n",
    "      - Run those circuits on a multi-threaded cpu and a multitude of single gpu backends. \n",
    "    \n",
    "    Prerequisite\n",
    "      - Basic intro to quantum  "
   ]
  },
  {
   "cell_type": "markdown",
   "metadata": {},
   "source": [
    "# Introduction to CUDA-Q\n",
    "\n",
    "    Outline \n",
    "    \n",
    "    0. Running the code snippets as standalone scripts\n",
    "       0.1 Default target\n",
    "       0.2 Simulation targets (single-gpu today, multi-gpu tomorrow)\n",
    "       0.3 Hardware targets\n",
    "    1. What is CUDA-Q? \n",
    "    2. Quantum circuits via CUDA-Q kernels\n",
    "        2.1 Single qubit circuit\n",
    "        2.2 Multi-qubit circuit with parameters\n",
    "    3. Algorithmic primitives\n",
    "        3.1 cudaq.sample() \n",
    "        3.2 cudaq.spin_op()\n",
    "        3.3 cudaq.observe()\n",
    "    4. Parameterized circuits\n",
    "        4.1 Passing a single parameter\n",
    "        4.2 Passing multiple lists\n",
    "    5. Variational algorithms two ways\n",
    "        5.1. VQE loop with expectation and optimization \n",
    "        5.2. VQE wrapper \n",
    "                cudaq.vqe()\n",
    "    6. Single-gpu acceleration\n",
    "    7. Important links for CUDA-Q"
   ]
  },
  {
   "cell_type": "markdown",
   "metadata": {},
   "source": [
    "### 0. Running the code snippets as standalone scripts"
   ]
  },
  {
   "cell_type": "markdown",
   "metadata": {},
   "source": [
    "Optional runtime flag:\n",
    "\n",
    "            python <filename> --target <targetname>\n",
    "\n",
    "Alternatively, put the following line in your code and drop the runtime --target flag.\n",
    "\n",
    "            cudaq.set_target('targetname')"
   ]
  },
  {
   "cell_type": "markdown",
   "metadata": {},
   "source": [
    "0.1 Default target (qpp as multi-threaded CPU statevector backend)\n",
    "\n",
    "            python <filename> "
   ]
  },
  {
   "cell_type": "markdown",
   "metadata": {},
   "source": [
    "0.2 Single-gpu acceleration\n",
    "\n",
    "    0.2.1 Statevector backend\n",
    "  \n",
    "            python <filename>  --target nvidia\n",
    "\n",
    "    0.2.2 Tensornet backend\n",
    "  \n",
    "            python <filename>  --target tensornet\n",
    "            \n",
    "    0.2.3 MPS backend\n",
    "  \n",
    "            python <filename>  --target tensornet-mps"
   ]
  },
  {
   "cell_type": "markdown",
   "metadata": {},
   "source": [
    "0.3 QPU backend if available\n",
    "    \n",
    "            python <filename>  --target quantinuum"
   ]
  },
  {
   "cell_type": "markdown",
   "metadata": {},
   "source": [
    "### 1. CUDA-Q"
   ]
  },
  {
   "cell_type": "markdown",
   "metadata": {},
   "source": [
    "    CUDA-Q is NVIDIA’s open-source platform for hybrid quantum-classical computing. \n",
    "\n",
    "    - Built for high-performance, scalability, and ease-of-use.\n",
    "\n",
    "    - QPU Agnostic : Integration with several different quantum hardware providers including \n",
    "        -  superconducting\n",
    "        -  trapped ion \n",
    "        -  neutral atom\n",
    "        -  photonic\n",
    "        -  many others!\n",
    "\n",
    "    - Interoperable with the modern scientific computing ecosystem​.\n",
    "\n",
    "    - Retargetable : seamless transition from simulation to physical QPU.\n",
    "\n",
    "    - Enabling users to develop performant and scalable applications."
   ]
  },
  {
   "cell_type": "markdown",
   "metadata": {},
   "source": [
    "#### 2. CUDA-Q Kernel\n",
    "\n",
    "      Accelerated-node programming models often separate the accelerator-device code \n",
    "      from existing CPU host code via function-level boundaries.\n",
    "\n",
    "      Quantum kernels are Python/C++ functions that are executed on a quantum processing unit. \n",
    "\n",
    "      They are a "
   ]
  },
  {
   "cell_type": "markdown",
   "metadata": {},
   "source": [
    "#### 2.1. Single qubit circuit"
   ]
  },
  {
   "cell_type": "code",
   "execution_count": 1,
   "metadata": {},
   "outputs": [
    {
     "name": "stdout",
     "output_type": "stream",
     "text": [
      "     ╭───╮╭───╮╭───╮╭───╮╭───╮╭───╮\n",
      "q0 : ┤ h ├┤ x ├┤ y ├┤ z ├┤ t ├┤ s ├\n",
      "     ╰───╯╰───╯╰───╯╰───╯╰───╯╰───╯\n",
      "\n",
      "{ 0:518 1:482 }\n",
      "\n"
     ]
    }
   ],
   "source": [
    "import cudaq\n",
    "\n",
    "# We begin by defining the `Kernel` that we will construct our\n",
    "# program with.\n",
    "@cudaq.kernel\n",
    "def my_first_kernel():\n",
    "    '''\n",
    "    This is our first CUDA Quantum kernel.\n",
    "    '''\n",
    "    # Next, we can allocate qubits to the kernel via `qvector(num_qubits)`.\n",
    "    # It will return a single qubit.\n",
    "    qubit = cudaq.qubit()\n",
    "\n",
    "    # Now we can begin adding instructions to apply to this qubit!\n",
    "    # Here we'll just add every non-parameterized\n",
    "    # single qubit gate that is supported by CUDA Quantum.\n",
    "    h(qubit)\n",
    "    x(qubit)\n",
    "    y(qubit)\n",
    "    z(qubit)\n",
    "    t(qubit)\n",
    "    s(qubit)\n",
    "\n",
    "    # Next, we add a measurement to the kernel so that we can sample\n",
    "    # the measurement results on our simulator!\n",
    "    mz(qubit)\n",
    "\n",
    "# Draw the circuit\n",
    "print(cudaq.draw(my_first_kernel))\n",
    "\n",
    "# Finally, we can execute this kernel on the state vector simulator\n",
    "# by calling `cudaq.sample`. This will execute the provided kernel\n",
    "# `shots_count` number of times and return the sampled distribution\n",
    "# as a `cudaq.SampleResult` dictionary.\n",
    "result = cudaq.sample(my_first_kernel)\n",
    "\n",
    "# Now let's take a look at the `SampleResult` we've gotten back!\n",
    "print(result)"
   ]
  },
  {
   "cell_type": "markdown",
   "metadata": {},
   "source": [
    "#### 2.2. Multi-qubit circuit with input parameters"
   ]
  },
  {
   "cell_type": "code",
   "execution_count": 2,
   "metadata": {},
   "outputs": [
    {
     "name": "stdout",
     "output_type": "stream",
     "text": [
      "         ╭───╮    ╭───╮\n",
      "q0 : ────┤ h ├────┤ x ├\n",
      "         ╰───╯    ╰─┬─╯\n",
      "q1 : ───────────────●──\n",
      "     ╭───────────╮     \n",
      "q2 : ┤ ry(1.047) ├─────\n",
      "     ╰───────────╯     \n",
      "\n",
      "{ 000:378 100:370 001:124 101:128 }\n",
      "\n"
     ]
    }
   ],
   "source": [
    "import cudaq\n",
    "import numpy as np\n",
    "\n",
    "@cudaq.kernel\n",
    "def my_second_kernel(N: int):\n",
    "    '''\n",
    "    This kernel accepts an input arguments.\n",
    "    '''\n",
    "    q = cudaq.qvector(N)\n",
    "    h(q[0])\n",
    "    ry(np.pi/3, q[2])\n",
    "    x.ctrl(q[1], q[0]) # multi-control gate\n",
    "    mz(q)\n",
    "\n",
    "print(cudaq.draw(my_second_kernel, 3))\n",
    "result = cudaq.sample(my_second_kernel, 3)\n",
    "\n",
    "print(result)"
   ]
  },
  {
   "cell_type": "markdown",
   "metadata": {},
   "source": [
    "###     3. Algorithmic primitives"
   ]
  },
  {
   "cell_type": "markdown",
   "metadata": {},
   "source": [
    "    Algorithmic primitives are common programming patterns that have \n",
    "    been implemented in the CUDA Quantum library.\n",
    "\n",
    "    We will discuss the following three:\n",
    "\n",
    "    3.1 cudaq.sample()\n",
    "    3.2 cudaq.observe()\n",
    "    3.3 cudaq.spin_op()"
   ]
  },
  {
   "cell_type": "markdown",
   "metadata": {},
   "source": [
    "#### 3.1. cudaq.sample()"
   ]
  },
  {
   "cell_type": "markdown",
   "metadata": {},
   "source": [
    "      The sample() function performs multiple measurements of the \n",
    "      circuit(1000 shots by default) and returns a dictionary of the\n",
    "      measurement outcomes along with their respective counts. "
   ]
  },
  {
   "cell_type": "markdown",
   "metadata": {},
   "source": [
    "      # multi-control gates with sample"
   ]
  },
  {
   "cell_type": "code",
   "execution_count": 3,
   "metadata": {},
   "outputs": [
    {
     "name": "stdout",
     "output_type": "stream",
     "text": [
      "     ╭───╮                                   \n",
      "q0 : ┤ h ├───────────────●────────────────●──\n",
      "     ├───┤               │                │  \n",
      "q1 : ┤ h ├───────────────●────────────────●──\n",
      "     ├───┤╭───────────╮╭─┴─╮╭──────────╮  │  \n",
      "q2 : ┤ h ├┤ ry(1.047) ├┤ x ├┤ ry(1.23) ├──●──\n",
      "     ├───┤├──────────┬╯╰───╯╰──────────╯╭─┴─╮\n",
      "q3 : ┤ h ├┤ ry(2.23) ├──────────────────┤ x ├\n",
      "     ╰───╯╰──────────╯                  ╰───╯\n",
      "\n",
      "{ 0101:63 1111:30 0001:48 0111:384 1011:384 0100:4 0000:6 0011:437 1000:5 1101:177 1100:13 0110:55 0010:45 1010:41 1001:60 1110:248 }\n",
      "\n"
     ]
    }
   ],
   "source": [
    "import cudaq\n",
    "import numpy as np\n",
    "\n",
    "@cudaq.kernel\n",
    "def my_third_kernel(N: int, theta: float):\n",
    "    q = cudaq.qvector(N)\n",
    "    h(q)\n",
    "    ry(theta, q[2])\n",
    "    x.ctrl([q[0],q[1]], q[2]) # ccx gate\n",
    "    ry(1.23, q[2]) \n",
    "    ry(2.23, q[3]) \n",
    "    x.ctrl([q[0],q[1],q[2]], q[3]) # cccx gate\n",
    "    mz(q)\n",
    "\n",
    "# default number of shots is 1000\n",
    "sample_result = cudaq.sample(my_third_kernel, 4, np.pi/3.0, shots_count=2000)\n",
    "print(cudaq.draw(my_third_kernel, 4, np.pi/3.0))\n",
    "print(sample_result)"
   ]
  },
  {
   "cell_type": "code",
   "execution_count": 4,
   "metadata": {},
   "outputs": [
    {
     "name": "stdout",
     "output_type": "stream",
     "text": [
      "{ }\n",
      "\n"
     ]
    }
   ],
   "source": [
    "# clear results, result should now be empty\n",
    "sample_result.clear()\n",
    "print(sample_result)"
   ]
  },
  {
   "cell_type": "code",
   "execution_count": 5,
   "metadata": {},
   "outputs": [
    {
     "data": {
      "text/plain": [
       "['__class__',\n",
       " '__delattr__',\n",
       " '__dir__',\n",
       " '__doc__',\n",
       " '__eq__',\n",
       " '__format__',\n",
       " '__ge__',\n",
       " '__getattribute__',\n",
       " '__getitem__',\n",
       " '__gt__',\n",
       " '__hash__',\n",
       " '__iadd__',\n",
       " '__init__',\n",
       " '__init_subclass__',\n",
       " '__iter__',\n",
       " '__le__',\n",
       " '__len__',\n",
       " '__lt__',\n",
       " '__module__',\n",
       " '__ne__',\n",
       " '__new__',\n",
       " '__reduce__',\n",
       " '__reduce_ex__',\n",
       " '__repr__',\n",
       " '__setattr__',\n",
       " '__sizeof__',\n",
       " '__str__',\n",
       " '__subclasshook__',\n",
       " 'clear',\n",
       " 'count',\n",
       " 'dump',\n",
       " 'expectation',\n",
       " 'expectation_z',\n",
       " 'get_marginal_counts',\n",
       " 'get_register_counts',\n",
       " 'get_sequential_data',\n",
       " 'items',\n",
       " 'most_probable',\n",
       " 'probability',\n",
       " 'register_names',\n",
       " 'values']"
      ]
     },
     "execution_count": 5,
     "metadata": {},
     "output_type": "execute_result"
    }
   ],
   "source": [
    "dir (sample_result)"
   ]
  },
  {
   "cell_type": "markdown",
   "metadata": {},
   "source": [
    "####  3.2. cudaq.spin_op()"
   ]
  },
  {
   "cell_type": "markdown",
   "metadata": {},
   "source": [
    "     \n",
    "    The spin_op represents sum of Pauli tensor products. \n",
    "    \n",
    "    - Easy to compose larger, more complex Pauli tensor products and their sums. \n",
    "\n",
    "Let's take the Hamitonian H such that, H  = $Z_0 \\otimes I_1 + I_0 \\otimes X_1 + Y_0 \\otimes I_1 + Y_0 \\otimes Y_1$."
   ]
  },
  {
   "cell_type": "code",
   "execution_count": 6,
   "metadata": {},
   "outputs": [
    {
     "name": "stdout",
     "output_type": "stream",
     "text": [
      "[-2+0j] IZZ\n",
      "[1+0j] ZII\n",
      "[1+0j] YII\n",
      "[1+0j] IXI\n",
      "[1+0j] YYI\n",
      "[-2+0j] ZZI\n",
      "\n",
      "(-3,0)  (0,0)  (1,0)  (0,0)  (0,1)  (0,0) (-1,0)  (0,0)\n",
      " (0,0)  (1,0)  (0,0)  (1,0)  (0,0)  (0,1)  (0,0) (-1,0)\n",
      " (1,0)  (0,0)  (5,0)  (0,0)  (1,0)  (0,0)  (0,1)  (0,0)\n",
      " (0,0)  (1,0)  (0,0)  (1,0)  (0,0)  (1,0)  (0,0)  (0,1)\n",
      "(0,-1)  (0,0)  (1,0)  (0,0) (-1,0)  (0,0)  (1,0)  (0,0)\n",
      " (0,0) (0,-1)  (0,0)  (1,0)  (0,0)  (3,0)  (0,0)  (1,0)\n",
      "(-1,0)  (0,0) (0,-1)  (0,0)  (1,0)  (0,0) (-1,0)  (0,0)\n",
      " (0,0) (-1,0)  (0,0) (0,-1)  (0,0)  (1,0)  (0,0) (-5,0)\n",
      "\n",
      "([(-3+0j), (1+0j), 1j, (-1+0j), (1+0j), (1+0j), 1j, (-1+0j), (1+0j), (5+0j), (1+0j), 1j, (1+0j), (1+0j), (1+0j), 1j, -1j, (1+0j), (-1+0j), (1+0j), -1j, (1+0j), (3+0j), (1+0j), (-1+0j), -1j, (1+0j), (-1+0j), (-1+0j), -1j, (1+0j), (-5+0j)], [0, 2, 4, 6, 1, 3, 5, 7, 0, 2, 4, 6, 1, 3, 5, 7, 0, 2, 4, 6, 1, 3, 5, 7, 0, 2, 4, 6, 1, 3, 5, 7], [0, 0, 0, 0, 1, 1, 1, 1, 2, 2, 2, 2, 3, 3, 3, 3, 4, 4, 4, 4, 5, 5, 5, 5, 6, 6, 6, 6, 7, 7, 7, 7])\n"
     ]
    }
   ],
   "source": [
    "# Importing the spin_op\n",
    "from cudaq import spin\n",
    "\n",
    "# the obseravle \n",
    "hamiltonian = spin.z(0) + spin.x(1) + spin.y(0) + spin.y(0) * spin.y(1)\n",
    "\n",
    "# add some more terms\n",
    "for i in range(2):\n",
    "  hamiltonian += -2.0*spin.z(i)*spin.z(i+1)\n",
    "\n",
    "print(hamiltonian)\n",
    "print(hamiltonian.to_matrix())\n",
    "print(hamiltonian.to_sparse_matrix())"
   ]
  },
  {
   "cell_type": "code",
   "execution_count": 7,
   "metadata": {},
   "outputs": [
    {
     "data": {
      "text/plain": [
       "['__add__',\n",
       " '__class__',\n",
       " '__delattr__',\n",
       " '__dir__',\n",
       " '__doc__',\n",
       " '__eq__',\n",
       " '__format__',\n",
       " '__ge__',\n",
       " '__getattribute__',\n",
       " '__gt__',\n",
       " '__hash__',\n",
       " '__iadd__',\n",
       " '__imul__',\n",
       " '__init__',\n",
       " '__init_subclass__',\n",
       " '__isub__',\n",
       " '__iter__',\n",
       " '__le__',\n",
       " '__lt__',\n",
       " '__module__',\n",
       " '__mul__',\n",
       " '__ne__',\n",
       " '__new__',\n",
       " '__radd__',\n",
       " '__reduce__',\n",
       " '__reduce_ex__',\n",
       " '__repr__',\n",
       " '__rmul__',\n",
       " '__rsub__',\n",
       " '__setattr__',\n",
       " '__sizeof__',\n",
       " '__str__',\n",
       " '__sub__',\n",
       " '__subclasshook__',\n",
       " 'distribute_terms',\n",
       " 'dump',\n",
       " 'for_each_pauli',\n",
       " 'for_each_term',\n",
       " 'from_word',\n",
       " 'get_coefficient',\n",
       " 'get_qubit_count',\n",
       " 'get_raw_data',\n",
       " 'get_term_count',\n",
       " 'is_identity',\n",
       " 'random',\n",
       " 'serialize',\n",
       " 'to_matrix',\n",
       " 'to_sparse_matrix',\n",
       " 'to_string']"
      ]
     },
     "execution_count": 7,
     "metadata": {},
     "output_type": "execute_result"
    }
   ],
   "source": [
    "dir(hamiltonian)"
   ]
  },
  {
   "cell_type": "markdown",
   "metadata": {},
   "source": [
    "#### 3.3. cudaq.observe()\n",
    "\n",
    "Compute the expectation value of the observable, i.e., $\\bra{\\psi}H\\ket{\\psi}$, where $H$ is of type spin_op."
   ]
  },
  {
   "cell_type": "code",
   "execution_count": 8,
   "metadata": {},
   "outputs": [
    {
     "data": {
      "text/plain": [
       "0.9999998211860657"
      ]
     },
     "execution_count": 8,
     "metadata": {},
     "output_type": "execute_result"
    }
   ],
   "source": [
    "import cudaq\n",
    "from cudaq import spin\n",
    "\n",
    "# the observable \n",
    "hamiltonian = spin.z(0) + spin.x(1) + spin.y(0) + spin.y(0)*spin.y(1)\n",
    "\n",
    "# First we need to construct a cuda quantum kernel\n",
    "@cudaq.kernel\n",
    "def my_fourth_kernel():\n",
    "  c = cudaq.qvector(3)\n",
    "  t = cudaq.qubit()\n",
    "  x(h(c))\n",
    "  x.ctrl([c[0], c[1]], t)\n",
    "\n",
    "# observe() takes the quantum circuit and the observable as input params\n",
    "observe_result = cudaq.observe(my_fourth_kernel, hamiltonian)\n",
    "observe_result.expectation()"
   ]
  },
  {
   "cell_type": "markdown",
   "metadata": {},
   "source": [
    "### 4. Parameterized circuits\n",
    "    A quantum circuit parameterized by one or many parameters."
   ]
  },
  {
   "cell_type": "code",
   "execution_count": 9,
   "metadata": {},
   "outputs": [
    {
     "data": {
      "text/plain": [
       "-1.7487943680728968"
      ]
     },
     "execution_count": 9,
     "metadata": {},
     "output_type": "execute_result"
    }
   ],
   "source": [
    "# Example of a circuit with a single parameter of type float.\n",
    "import cudaq\n",
    "from cudaq import spin\n",
    "\n",
    "# the observable \n",
    "hamiltonian = 5.907 - 2.1433 * spin.x(0) * spin.x(1) \\\n",
    "            - 2.1433 * spin.y(0) * spin.y(1) + 0.21829 * spin.z(0) \\\n",
    "            - 6.125 * spin.z(1)\n",
    "\n",
    "# parameterized cudaq kernel, the parameter is of type float\n",
    "@cudaq.kernel\n",
    "def kernel(theta: float):\n",
    "  q = cudaq.qvector(2)\n",
    "  x(q[0])\n",
    "  ry(theta, q[1])\n",
    "  cx(q[1], q[0])\n",
    "\n",
    "# observe() takes the kernel, the observable and the kernel parameters\n",
    "observe_result = cudaq.observe(kernel, hamiltonian, .59)\n",
    "observe_result.expectation()"
   ]
  },
  {
   "cell_type": "markdown",
   "metadata": {},
   "source": [
    "      Passing one or many lists of floats"
   ]
  },
  {
   "cell_type": "code",
   "execution_count": 10,
   "metadata": {},
   "outputs": [
    {
     "data": {
      "text/plain": [
       "-0.3993864726131413"
      ]
     },
     "execution_count": 10,
     "metadata": {},
     "output_type": "execute_result"
    }
   ],
   "source": [
    "# Example of a circuit with two parameters, each is a list of floats\n",
    "import cudaq\n",
    "from cudaq import spin\n",
    "\n",
    "# the observable \n",
    "hamiltonian = 5.907 - 2.1433 * spin.x(0) * spin.x(1) \\\n",
    "            - 2.1433 * spin.y(0) * spin.y(1) + 0.21829 * spin.z(0) \\\n",
    "            - 6.125 * spin.z(1)\n",
    "\n",
    "# parameterized cudaq kernel, the parameters are two lists of floats\n",
    "@cudaq.kernel\n",
    "def kernel(alphas: list[float], betas: list[float]):\n",
    "  q = cudaq.qvector(2)\n",
    "  x(q[0])\n",
    "  ry(alphas[0], q[0])\n",
    "  rz(betas[0], q[1])\n",
    "  cx(q[1], q[0])\n",
    "  \n",
    "# observe() takes the kernel, the observable and the kernel parameters\n",
    "observe_result = cudaq.observe(kernel, hamiltonian, [.59, 0.3], [0.4, 0.5])\n",
    "observe_result.expectation()"
   ]
  },
  {
   "cell_type": "markdown",
   "metadata": {},
   "source": [
    "    5. Variational Algorithms\n",
    "\n",
    "    Leverage the `cudaq.observe(...)` function in tandem with the `cudaq.optimizer`.\n",
    "\n",
    "    One can choose an optimization strategy provided as specific sub-types of the `cudaq.optimizer`.\n",
    "\n",
    "    The `cudaq.optimizer` can be replaced with optimizers from other python libraries (e.g. scipy)."
   ]
  },
  {
   "cell_type": "markdown",
   "metadata": {},
   "source": [
    "#### 5.1 VQE loop with expectation & optimization "
   ]
  },
  {
   "cell_type": "code",
   "execution_count": 11,
   "metadata": {},
   "outputs": [
    {
     "name": "stdout",
     "output_type": "stream",
     "text": [
      "-0.999999761581421 [0.0]\n",
      "5.960464499743523e-08 [1.5707963267948966]\n",
      "-1.9999997019767757 [-1.5707963267948963]\n",
      "-0.9999996125698125 [-3.141592653589793]\n",
      "-0.999999761581421 [2.220446049250313e-16]\n",
      "-1.707106605172157 [-0.7853981633974481]\n",
      "-1.9238792918622494 [-1.9634954084936205]\n",
      "-1.9807852329686284 [-1.3744467859455343]\n",
      "-1.9951846345793456 [-1.6689710972195773]\n",
      "-1.9987954242387787 [-1.5217089415825558]\n"
     ]
    }
   ],
   "source": [
    "# Import the necessary modules\n",
    "import cudaq\n",
    "from cudaq import spin\n",
    "\n",
    "# Parameterized circuit with theta as the parameter\n",
    "@cudaq.kernel\n",
    "def kernel(theta: list[float]):\n",
    "    qreg = cudaq.qvector(2)\n",
    "    x(qreg[0])\n",
    "    ry(theta[0], qreg[1])\n",
    "\n",
    "# Observable  \n",
    "hamiltonian = spin.z(0) + spin.x(1) + spin.y(0)  \n",
    "\n",
    "# Initialize the gradient-free optimizer COBYLA\n",
    "optimizer = cudaq.optimizers.COBYLA()\n",
    "\n",
    "# Specify the number of iterations (optional)\n",
    "optimizer.max_iterations = 10\n",
    "\n",
    "def cost_function(x):\n",
    "    # cudaq.observe() produces the expected value of a specified observable wrt a given parameterized ansatz at given params.\n",
    "    # This value is the cost function wrt which we are optimizing.\n",
    "    observeResult = cudaq.observe(kernel, hamiltonian, x)\n",
    "    print (observeResult.expectation(), x)\n",
    "    return observeResult.expectation()\n",
    "\n",
    "# Carry out the optimization\n",
    "opt_value, opt_theta = optimizer.optimize(dimensions=1, function=cost_function)"
   ]
  },
  {
   "cell_type": "markdown",
   "metadata": {},
   "source": [
    "#### 5.2 VQE wrapper\n",
    "Combines the expectation computation with the optimzation"
   ]
  },
  {
   "cell_type": "code",
   "execution_count": 12,
   "metadata": {},
   "outputs": [
    {
     "name": "stdout",
     "output_type": "stream",
     "text": [
      "\n",
      "minimized <H> = -1.0\n",
      "optimal theta = 0.0\n"
     ]
    }
   ],
   "source": [
    " # Import the necessary modules\n",
    " import cudaq\n",
    " from cudaq import spin\n",
    " \n",
    "# Parameterized circuit with theta as the parameter\n",
    "@cudaq.kernel\n",
    "def kernel(theta: list[float]):\n",
    "    qreg = cudaq.qvector(2)\n",
    "    x(qreg[0])\n",
    "    ry(theta[0], qreg[1])\n",
    " \n",
    " # Hamiltonian operator \n",
    " hamiltonian = hamiltonian = spin.z(0) \n",
    " \n",
    " # Initialize the gradient-free optimizer COBYLA\n",
    " optimizer = cudaq.optimizers.COBYLA()\n",
    " \n",
    " # Specify the number of iterations (optional)\n",
    " optimizer.max_iterations = 5\n",
    " \n",
    " # Carry out the optimization\n",
    " opt_value, opt_theta = cudaq.vqe(kernel=kernel, \n",
    "                         spin_operator=hamiltonian,\n",
    "                         optimizer=optimizer,\n",
    "                         parameter_count=1)\n",
    " \n",
    " print(f\"\\nminimized <H> = {round(opt_value,16)}\")\n",
    " print(f\"optimal theta = {round(opt_theta[0],16)}\")"
   ]
  },
  {
   "cell_type": "markdown",
   "metadata": {},
   "source": [
    "### 6. Single-gpu acceleration\n",
    "    We demonstrate the power of GPU acceleration via GHZ state preparation.\n",
    "    (About 200x faster than its CPU counterpart!)"
   ]
  },
  {
   "cell_type": "code",
   "execution_count": 13,
   "metadata": {},
   "outputs": [
    {
     "name": "stdout",
     "output_type": "stream",
     "text": [
      "{ 000000000000000000000000000000:502 111111111111111111111111111111:498 }\n"
     ]
    }
   ],
   "source": [
    "# To run as a script, use python <fname> --target nvidia\n",
    "import cudaq\n",
    "\n",
    "qubit_count = 30\n",
    "\n",
    "cudaq.set_target(\"nvidia\") # activates the single-gpu backend\n",
    "\n",
    "@cudaq.kernel\n",
    "def kernel(qubit_count: int):\n",
    "    # Allocate our qubits.\n",
    "    qvector = cudaq.qvector(qubit_count)\n",
    "    # Place the first qubit in the superposition state.\n",
    "    h(qvector[0])\n",
    "    # Loop through the allocated qubits and apply controlled-X,\n",
    "    # or CNOT, operations between them.\n",
    "    for qubit in range(qubit_count - 1):\n",
    "        x.ctrl(qvector[qubit], qvector[qubit + 1])\n",
    "    # Measure the qubits.\n",
    "    mz(qvector)\n",
    "\n",
    "#print(\"Preparing GHZ state for\", qubit_count, \"qubits.\")\n",
    "counts = cudaq.sample(kernel, qubit_count)\n",
    "counts.dump()"
   ]
  },
  {
   "cell_type": "markdown",
   "metadata": {},
   "source": [
    "    Important Links for CUDA-Q\n",
    "\n",
    "    * Documentation\n",
    "        https://nvidia.github.io/cuda-quantum/latest/index.html\n",
    "    * Github repo\n",
    "        https://github.com/NVIDIA/cuda-quantum\n",
    "    * Examples\n",
    "        https://nvidia.github.io/cuda-quantum/latest/using/examples/examples.html"
   ]
  }
 ],
 "metadata": {
  "kernelspec": {
   "display_name": "Python 3",
   "language": "python",
   "name": "python3"
  },
  "language_info": {
   "codemirror_mode": {
    "name": "ipython",
    "version": 3
   },
   "file_extension": ".py",
   "mimetype": "text/x-python",
   "name": "python",
   "nbconvert_exporter": "python",
   "pygments_lexer": "ipython3",
   "version": "3.10.12"
  }
 },
 "nbformat": 4,
 "nbformat_minor": 2
}
